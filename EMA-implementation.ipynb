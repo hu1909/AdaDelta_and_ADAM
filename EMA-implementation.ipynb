{
 "cells": [
  {
   "cell_type": "code",
   "execution_count": null,
   "id": "9bd6d105",
   "metadata": {},
   "outputs": [],
   "source": [
    "class EMA:\n",
    "    def __init__(self, alpha=None, window=None, bias_correction=True):\n",
    "\n",
    "        if alpha is not None and window is not None:\n",
    "            raise ValueError(\"Specify either alpha or window, not both\")\n",
    "        \n",
    "        if alpha is not None:\n",
    "            if not 0 < alpha <= 1:\n",
    "                raise ValueError(\"Alpha must be between 0 and 1\")\n",
    "            self.alpha = alpha\n",
    "        elif window is not None:\n",
    "            if window <= 0:\n",
    "                raise ValueError(\"Window must be positive\")\n",
    "            self.alpha = 2.0 / (window + 1)\n",
    "        else:\n",
    "            raise ValueError(\"Must specify either alpha or window\")\n",
    "        \n",
    "        self.bias_correction = bias_correction\n",
    "        self.reset()\n",
    "    \n",
    "    \n",
    "    def update(self, new_value):\n",
    "        self.t += 1\n",
    "        if self.ema_value is None:\n",
    "            self.ema_value = new_value\n",
    "        else:\n",
    "            self.ema_value = self.alpha * new_value + (1 - self.alpha) * self.ema_value\n",
    "        \n",
    "        if self.bias_correction:\n",
    "            bias_corrected_ema = self.ema_value / (1 - (1 - self.alpha) ** self.t)\n",
    "            return bias_corrected_ema\n",
    "        else:\n",
    "            return self.ema_value\n",
    "    \n",
    "    def get_current_value(self):\n",
    "        if self.ema_value is None:\n",
    "            return None\n",
    "        if self.bias_correction:\n",
    "            return self.ema_value / (1 - (1 - self.alpha) ** self.t)\n",
    "        else:\n",
    "            return self.ema_value"
   ]
  }
 ],
 "metadata": {
  "kernelspec": {
   "display_name": "venv",
   "language": "python",
   "name": "python3"
  },
  "language_info": {
   "name": "python",
   "version": "3.11.9"
  }
 },
 "nbformat": 4,
 "nbformat_minor": 5
}
