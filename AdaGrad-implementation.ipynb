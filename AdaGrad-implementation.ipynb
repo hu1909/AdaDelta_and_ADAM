{
 "cells": [
  {
   "cell_type": "markdown",
   "id": "cc7673b7",
   "metadata": {},
   "source": [
    "Define a AdaGrad class which construct by mathematic formula"
   ]
  },
  {
   "cell_type": "code",
   "execution_count": null,
   "id": "83ab2174",
   "metadata": {},
   "outputs": [],
   "source": [
    "import numpy as np\n",
    "\n",
    "class Adagrad:\n",
    "    \n",
    "    def __init__(self, learning_rate: float = 0.01, constant: float = 1e-8):\n",
    "        self.learning_rate = learning_rate\n",
    "        self.constant = constant\n",
    "\n",
    "        # s(i,t)\n",
    "        self.accumulated_gradients = None\n",
    "\n",
    "        \n",
    "    def calculate_param(self, params: np.ndarray, gradients: np.ndarray):\n",
    "        if self.accumulated_gradients is None:\n",
    "            self.accumulated_gradients = np.zeros_like(params)\n",
    "        \n",
    "        self.accumulated_gradients += gradients ** 2\n",
    "        adaptive_lr = self.learning_rate / (np.sqrt(self.accumulated_gradients) + self.constant)\n",
    "        updated_params = params - adaptive_lr * gradients\n",
    "        \n",
    "        return updated_params\n",
    "    \n",
    "    def get_accumulated_gradients(self):\n",
    "        if self.accumulated_gradients is not None:\n",
    "            return self.accumulated_gradients\n",
    "        return None"
   ]
  },
  {
   "cell_type": "markdown",
   "id": "84814571",
   "metadata": {},
   "source": [
    "Provide a function for testing and visualize it"
   ]
  },
  {
   "cell_type": "code",
   "execution_count": null,
   "id": "bea9f517",
   "metadata": {},
   "outputs": [
    {
     "name": "stdout",
     "output_type": "stream",
     "text": [
      "Function: \n",
      "f(x,y) = (x - 2)^2 + (y - 3)^2\n",
      "=======================================================\n",
      "\n",
      "Step | x      | y      | Loss   | Adaptive LR (x,y)\n",
      "-------------------------------------------------------\n",
      "   0 |  0.000 |  0.000 | 13.000 | (init,init)\n",
      "   1 |  0.800 |  0.800 |  6.280 | (0.200,0.133)\n",
      "   2 |  1.212 |  1.273 |  3.604 | (0.171,0.108)\n",
      "   3 |  1.468 |  1.610 |  2.216 | (0.162,0.098)\n",
      "   4 |  1.637 |  1.867 |  1.416 | (0.159,0.092)\n",
      "   5 |  1.751 |  2.069 |  0.928 | (0.157,0.089)\n",
      "   6 |  1.829 |  2.232 |  0.619 | (0.156,0.087)\n",
      "   7 |  1.882 |  2.365 |  0.418 | (0.156,0.086)\n",
      "   8 |  1.919 |  2.473 |  0.284 | (0.156,0.085)\n",
      "   9 |  1.944 |  2.563 |  0.194 | (0.156,0.085)\n",
      "\n",
      "Final: x=1.961620, y=2.636685\n",
      "Final loss: 0.1334704943\n",
      "We could see how learning rate adapt through different gradient level\n"
     ]
    },
    {
     "ename": "",
     "evalue": "",
     "output_type": "error",
     "traceback": [
      "\u001b[1;31mThe Kernel crashed while executing code in the current cell or a previous cell. \n",
      "\u001b[1;31mPlease review the code in the cell(s) to identify a possible cause of the failure. \n",
      "\u001b[1;31mClick <a href='https://aka.ms/vscodeJupyterKernelCrash'>here</a> for more info. \n",
      "\u001b[1;31mView Jupyter <a href='command:jupyter.viewOutput'>log</a> for further details."
     ]
    }
   ],
   "source": [
    "if __name__ == \"__main__\":\n",
    "    \n",
    "    # Initial parameters\n",
    "    params = np.array([0.0, 0.0])\n",
    "    optimizer = Adagrad(learning_rate=0.8)\n",
    "    print(\"Function: \")\n",
    "    print(\"f(x,y) = (x - 2)^2 + (y - 3)^2\")\n",
    "    print(\"=\" * 55)\n",
    "    print(\"\\nStep | x      | y      | Loss   | Adaptive LR (x,y)\")\n",
    "    print(\"-\" * 55)\n",
    "    \n",
    "    for step in range(10):\n",
    "        x, y = params[0], params[1]\n",
    "        \n",
    "        loss = (x -2 )**2 + (y - 3)**2\n",
    "        gradients = np.array([2*(x - 2), 2*(y - 3)])\n",
    "        \n",
    "        if optimizer.accumulated_gradients is not None:\n",
    "            # Calculate the learning rate\n",
    "            adaptive_lr = optimizer.learning_rate / (np.sqrt(optimizer.accumulated_gradients) + optimizer.constant)\n",
    "            lr_str = f\"({adaptive_lr[0]:.3f},{adaptive_lr[1]:.3f})\"\n",
    "        else:\n",
    "            lr_str = \"(init,init)\"\n",
    "        \n",
    "        print(f\"{step:4d} | {x:6.3f} | {y:6.3f} | {loss:6.3f} | {lr_str}\")\n",
    "        \n",
    "        params = optimizer.calculate_param(params, gradients)\n",
    "        \n",
    "        if loss < 1e-6:\n",
    "            break\n",
    "\n",
    "    print(f\"\\nFinal: x={params[0]:.6f}, y={params[1]:.6f}\")\n",
    "    print(f\"Final loss: {((params[0]-2)**2 + (params[1]-3)**2):.10f}\")\n",
    "    \n",
    "    print(\"We could see how learning rate adapt through different gradient level\")\n"
   ]
  },
  {
   "cell_type": "markdown",
   "id": "9c46b5bc",
   "metadata": {},
   "source": []
  }
 ],
 "metadata": {
  "kernelspec": {
   "display_name": "venv",
   "language": "python",
   "name": "python3"
  },
  "language_info": {
   "codemirror_mode": {
    "name": "ipython",
    "version": 3
   },
   "file_extension": ".py",
   "mimetype": "text/x-python",
   "name": "python",
   "nbconvert_exporter": "python",
   "pygments_lexer": "ipython3",
   "version": "3.11.9"
  }
 },
 "nbformat": 4,
 "nbformat_minor": 5
}
