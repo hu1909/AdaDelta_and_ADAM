{
 "cells": [
  {
   "cell_type": "markdown",
   "id": "99b030b3",
   "metadata": {},
   "source": [
    "Import neccessary library"
   ]
  },
  {
   "cell_type": "code",
   "execution_count": 2,
   "id": "5b2cb676",
   "metadata": {},
   "outputs": [],
   "source": [
    "import numpy as np"
   ]
  },
  {
   "cell_type": "markdown",
   "id": "cc7673b7",
   "metadata": {},
   "source": [
    "Define a AdaGrad class which construct by mathematic formula"
   ]
  },
  {
   "cell_type": "code",
   "execution_count": 3,
   "id": "83ab2174",
   "metadata": {},
   "outputs": [],
   "source": [
    "class Adagrad:\n",
    "    \n",
    "    def __init__(self, learning_rate: float = 0.01, constant: float = 1e-8):\n",
    "        self.learning_rate = learning_rate\n",
    "        self.constant = constant\n",
    "\n",
    "        # s(i,t)\n",
    "        self.accumulated_gradients = None\n",
    "\n",
    "        \n",
    "    def calculate_param(self, params: np.ndarray, gradients: np.ndarray):\n",
    "        if self.accumulated_gradients is None:\n",
    "            self.accumulated_gradients = np.zeros_like(params)\n",
    "        \n",
    "        self.accumulated_gradients += gradients ** 2\n",
    "        \n",
    "        # Compute adaptive learning rate\n",
    "        adaptive_lr = self.learning_rate / (np.sqrt(self.accumulated_gradients) + self.constant)\n",
    "        \n",
    "        # Update parameters\n",
    "        updated_params = params - adaptive_lr * gradients\n",
    "        \n",
    "        return updated_params\n",
    "    \n",
    "    def get_accumulated_gradients(self):\n",
    "        if self.accumulated_gradients is not None:\n",
    "            return self.accumulated_gradients\n",
    "        return None"
   ]
  },
  {
   "cell_type": "markdown",
   "id": "84814571",
   "metadata": {},
   "source": [
    "Provide a function for testing and visualize it"
   ]
  },
  {
   "cell_type": "code",
   "execution_count": 13,
   "id": "bea9f517",
   "metadata": {},
   "outputs": [
    {
     "name": "stdout",
     "output_type": "stream",
     "text": [
      "Function: \n",
      "f(x,y) = 10*(x)^2 + (y + 10)^2\n",
      "=======================================================\n",
      "\n",
      "Step | x      | y      | Loss   | Adaptive LR (x,y)\n",
      "-------------------------------------------------------\n",
      "   0 |  0.000 |  0.000 | 625100.000 | (init,init)\n",
      "   4 | -0.276 | -0.277 | 614811.867 | (0.001,0.003)\n",
      "   8 | -0.430 | -0.433 | 609116.662 | (0.000,0.002)\n",
      "  12 | -0.549 | -0.555 | 604743.723 | (0.000,0.001)\n",
      "  16 | -0.649 | -0.658 | 601081.553 | (0.000,0.001)\n",
      "  20 | -0.736 | -0.748 | 597881.238 | (0.000,0.001)\n",
      "  24 | -0.815 | -0.830 | 595012.175 | (0.000,0.001)\n",
      "  28 | -0.887 | -0.905 | 592395.729 | (0.000,0.001)\n",
      "  32 | -0.954 | -0.975 | 589980.203 | (0.000,0.001)\n",
      "  36 | -1.017 | -1.040 | 587729.456 | (0.000,0.001)\n",
      "  40 | -1.075 | -1.102 | 585617.046 | (0.000,0.001)\n",
      "  44 | -1.131 | -1.160 | 583622.934 | (0.000,0.001)\n",
      "  48 | -1.184 | -1.216 | 581731.504 | (0.000,0.001)\n",
      "We could see how learning rate adapt through different gradient level\n"
     ]
    }
   ],
   "source": [
    "if __name__ == \"__main__\":\n",
    "    \n",
    "    # Initial parameters\n",
    "    params = np.array([0.0, 0.0])\n",
    "    optimizer = Adagrad(learning_rate=0.1)\n",
    "    print(\"Function: \")\n",
    "    print(\"f(x,y) = 10*(x)^2 + (y + 10)^2\")\n",
    "    print(\"=\" * 55)\n",
    "    print(\"\\nStep | x      | y      | Loss   | Adaptive LR (x,y)\")\n",
    "    print(\"-\" * 55)\n",
    "    \n",
    "    for step in range(50):\n",
    "        x, y = params[0], params[1]\n",
    "        \n",
    "        loss = 5*(x + 50)**3 + (y + 10)**2\n",
    "        gradients = np.array([15*(x + 5), 2*(y + 10)])\n",
    "        \n",
    "        # Show adaptive learning rates\n",
    "        if optimizer.accumulated_gradients is not None:\n",
    "            # Calculate the learning rate\n",
    "            adaptive_lr = optimizer.learning_rate / (np.sqrt(optimizer.accumulated_gradients) + optimizer.constant)\n",
    "            lr_str = f\"({adaptive_lr[0]:.3f},{adaptive_lr[1]:.3f})\"\n",
    "        else:\n",
    "            lr_str = \"(init,init)\"\n",
    "        \n",
    "        if step % 4 == 0:\n",
    "            print(f\"{step:4d} | {x:6.3f} | {y:6.3f} | {loss:6.3f} | {lr_str}\")\n",
    "        \n",
    "        # Update parameters\n",
    "        params = optimizer.calculate_param(params, gradients)\n",
    "        \n",
    "        if loss < 1e-6:\n",
    "            break\n",
    "    \n",
    "    print(\"We could see how learning rate adapt through different gradient level\")\n"
   ]
  },
  {
   "cell_type": "markdown",
   "id": "9c46b5bc",
   "metadata": {},
   "source": []
  }
 ],
 "metadata": {
  "kernelspec": {
   "display_name": "venv",
   "language": "python",
   "name": "python3"
  },
  "language_info": {
   "codemirror_mode": {
    "name": "ipython",
    "version": 3
   },
   "file_extension": ".py",
   "mimetype": "text/x-python",
   "name": "python",
   "nbconvert_exporter": "python",
   "pygments_lexer": "ipython3",
   "version": "3.11.9"
  }
 },
 "nbformat": 4,
 "nbformat_minor": 5
}
